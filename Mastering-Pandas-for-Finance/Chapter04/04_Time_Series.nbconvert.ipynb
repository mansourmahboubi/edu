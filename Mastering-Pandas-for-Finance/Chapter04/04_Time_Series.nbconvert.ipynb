{
 "cells": [
  {
   "cell_type": "code",
   "execution_count": 1,
   "id": "0253c2ea",
   "metadata": {
    "collapsed": false
   },
   "outputs": [],
   "source": [
    "import numpy as np\n",
    "import pandas as pd\n",
    "\n",
    "pd.set_option('display.notebook_repr_html', False)\n",
    "pd.set_option('display.max_columns', 10)\n",
    "pd.set_option('display.max_rows', 7)\n",
    "pd.set_option('precision', 7)\n",
    "\n",
    "# useful for date/time manipulations\n",
    "import datetime\n",
    "from datetime import datetime\n",
    "\n",
    "# And some items for matplotlib\n",
    "import matplotlib.pyplot as plt\n",
    "%matplotlib inline \n",
    "pd.options.display.mpl_style = 'default'"
   ]
  },
  {
   "cell_type": "markdown",
   "id": "24654ab5",
   "metadata": {},
   "source": [
    "# Time-series data and the DatetimeIndex"
   ]
  },
  {
   "cell_type": "code",
   "execution_count": 2,
   "id": "8ef85527",
   "metadata": {
    "collapsed": false
   },
   "outputs": [
    {
     "data": {
      "text/plain": [
       "<class 'pandas.tseries.index.DatetimeIndex'>\n",
       "[2014-08-01, 2014-08-02]\n",
       "Length: 2, Freq: None, Timezone: None"
      ]
     },
     "execution_count": 2,
     "metadata": {},
     "output_type": "execute_result"
    }
   ],
   "source": [
    "# create a a DatetimeIndex from an array of datetime's\n",
    "dates = [datetime(2014, 8, 1), datetime(2014, 8, 2)]\n",
    "dti = pd.DatetimeIndex(dates)\n",
    "dti"
   ]
  },
  {
   "cell_type": "code",
   "execution_count": 3,
   "id": "7a39e16d",
   "metadata": {
    "collapsed": false
   },
   "outputs": [
    {
     "data": {
      "text/plain": [
       "pandas.tseries.index.DatetimeIndex"
      ]
     },
     "execution_count": 3,
     "metadata": {},
     "output_type": "execute_result"
    }
   ],
   "source": [
    "# a Series given a datetime list will automatically create\n",
    "# a DatetimeIndex as its index\n",
    "np.random.seed(123456)\n",
    "ts = pd.Series(np.random.randn(2), dates)\n",
    "type(ts.index)"
   ]
  },
  {
   "cell_type": "code",
   "execution_count": 4,
   "id": "01f063be",
   "metadata": {
    "collapsed": false
   },
   "outputs": [
    {
     "data": {
      "text/plain": [
       "-0.28286334432866328"
      ]
     },
     "execution_count": 4,
     "metadata": {},
     "output_type": "execute_result"
    }
   ],
   "source": [
    "# retrieve a value using a datetime object\n",
    "ts[datetime(2014, 8, 2)]"
   ]
  },
  {
   "cell_type": "code",
   "execution_count": 5,
   "id": "8f26bab5",
   "metadata": {
    "collapsed": false
   },
   "outputs": [
    {
     "data": {
      "text/plain": [
       "-0.28286334432866328"
      ]
     },
     "execution_count": 5,
     "metadata": {},
     "output_type": "execute_result"
    }
   ],
   "source": [
    "# this can also be performed with a string\n",
    "ts['2014-8-2']"
   ]
  },
  {
   "cell_type": "code",
   "execution_count": 6,
   "id": "f947d627",
   "metadata": {
    "collapsed": false
   },
   "outputs": [
    {
     "data": {
      "text/plain": [
       "2014-08-01    0.469112\n",
       "2014-08-02   -0.282863\n",
       "dtype: float64"
      ]
     },
     "execution_count": 6,
     "metadata": {},
     "output_type": "execute_result"
    }
   ],
   "source": [
    "# create a Series with a DatetimeIndex using strings as dates\n",
    "np.random.seed(123456)\n",
    "dates = ['2014-08-01', '2014-08-02']\n",
    "ts = pd.Series(np.random.randn(2), dates)\n",
    "ts"
   ]
  },
  {
   "cell_type": "code",
   "execution_count": 7,
   "id": "fc08e482",
   "metadata": {
    "collapsed": false
   },
   "outputs": [
    {
     "data": {
      "text/plain": [
       "<class 'pandas.tseries.index.DatetimeIndex'>\n",
       "[2014-08-01, ..., NaT]\n",
       "Length: 4, Freq: None, Timezone: None"
      ]
     },
     "execution_count": 7,
     "metadata": {},
     "output_type": "execute_result"
    }
   ],
   "source": [
    "# convert a list of items to a DatetimeIndex\n",
    "dti = pd.to_datetime(['Aug 1, 2014', '2014-08-02', \n",
    "                      '2014.8.3', None])\n",
    "dti"
   ]
  },
  {
   "cell_type": "code",
   "execution_count": 8,
   "id": "aa8ba15a",
   "metadata": {
    "collapsed": false
   },
   "outputs": [
    {
     "data": {
      "text/plain": [
       "numpy.ndarray"
      ]
     },
     "execution_count": 8,
     "metadata": {},
     "output_type": "execute_result"
    }
   ],
   "source": [
    "# watch out as a failure to convert an item on the list\n",
    "# to a date/time will result in the return value being a\n",
    "# NumPy array instead of a DatetimeIndex\n",
    "dti2 = pd.to_datetime(['Aug 1, 2014', 'foo'])\n",
    "type(dti2)"
   ]
  },
  {
   "cell_type": "code",
   "execution_count": 9,
   "id": "f2d206b9",
   "metadata": {
    "collapsed": false
   },
   "outputs": [
    {
     "data": {
      "text/plain": [
       "<class 'pandas.tseries.index.DatetimeIndex'>\n",
       "[2014-08-01, NaT]\n",
       "Length: 2, Freq: None, Timezone: None"
      ]
     },
     "execution_count": 9,
     "metadata": {},
     "output_type": "execute_result"
    }
   ],
   "source": [
    "# coerce pandas to convert all to datetime and a DatetimeIndex\n",
    "# substituting NaT where values can not be converted\n",
    "pd.to_datetime(['Aug 1, 2014', 'foo'], coerce=True)"
   ]
  },
  {
   "cell_type": "code",
   "execution_count": 10,
   "id": "805493e1",
   "metadata": {
    "collapsed": false
   },
   "outputs": [
    {
     "data": {
      "text/plain": [
       "(Timestamp('2014-08-01 00:00:00'), Timestamp('2014-08-01 00:00:00'))"
      ]
     },
     "execution_count": 10,
     "metadata": {},
     "output_type": "execute_result"
    }
   ],
   "source": [
    "# demonstrate two representations of the same date, one \n",
    "# month first, the other day first, converting to the \n",
    "# same date representation in pandas\n",
    "dti1 = pd.to_datetime(['8/1/2014'])\n",
    "dti2 = pd.to_datetime(['1/8/2014'], dayfirst=True)\n",
    "dti1[0], dti2[0]"
   ]
  },
  {
   "cell_type": "code",
   "execution_count": 11,
   "id": "1c53a6de",
   "metadata": {
    "collapsed": false
   },
   "outputs": [
    {
     "data": {
      "text/plain": [
       "2014-08-01    0.469112\n",
       "2014-08-02   -0.282863\n",
       "2014-08-03   -1.509059\n",
       "2014-08-04   -1.135632\n",
       "2014-08-05    1.212112\n",
       "Freq: D, dtype: float64"
      ]
     },
     "execution_count": 11,
     "metadata": {},
     "output_type": "execute_result"
    }
   ],
   "source": [
    "# create a Series with a DatetimeIndex starting at 8/1/2014\n",
    "# and consisting of 10 consequtive days\n",
    "np.random.seed(123456)\n",
    "dates = pd.date_range('8/1/2014', periods=10)\n",
    "s1 = pd.Series(np.random.randn(10), dates)\n",
    "s1[:5]"
   ]
  },
  {
   "cell_type": "code",
   "execution_count": 12,
   "id": "be140c1e",
   "metadata": {
    "collapsed": false
   },
   "outputs": [
    {
     "data": {
      "text/plain": [
       "             Open   High    Low  Close    Volume  Adj Close\n",
       "Date                                                       \n",
       "2012-01-03  26.55  26.96  26.39  26.77  64731500   24.42183\n",
       "2012-01-04  26.82  27.47  26.78  27.40  80516100   24.99657\n",
       "2012-01-05  27.38  27.73  27.29  27.68  56081400   25.25201\n",
       "2012-01-06  27.53  28.19  27.53  28.11  99455500   25.64429\n",
       "2012-01-09  28.05  28.10  27.72  27.74  59706800   25.30675"
      ]
     },
     "execution_count": 12,
     "metadata": {},
     "output_type": "execute_result"
    }
   ],
   "source": [
    "# for examples of data retrieval / slicing, we will use the \n",
    "# following data from Yahoo! Finance\n",
    "import pandas.io.data as web\n",
    "msft = web.DataReader(\"MSFT\", 'yahoo', '2012-1-1', '2013-12-30')\n",
    "msft.head(5)"
   ]
  },
  {
   "cell_type": "code",
   "execution_count": 13,
   "id": "955fca01",
   "metadata": {
    "collapsed": false
   },
   "outputs": [
    {
     "data": {
      "text/plain": [
       "Date\n",
       "2012-01-03    24.42183\n",
       "2012-01-04    24.99657\n",
       "2012-01-05    25.25201\n",
       "Name: Adj Close, dtype: float64"
      ]
     },
     "execution_count": 13,
     "metadata": {},
     "output_type": "execute_result"
    }
   ],
   "source": [
    "# extract just the Adj Close values\n",
    "msftAC = msft['Adj Close']\n",
    "msftAC.head(3)"
   ]
  },
  {
   "cell_type": "code",
   "execution_count": 14,
   "id": "17fe4aff",
   "metadata": {
    "collapsed": false
   },
   "outputs": [
    {
     "data": {
      "text/plain": [
       "             Open   High    Low  Close    Volume  Adj Close\n",
       "Date                                                       \n",
       "2012-01-03  26.55  26.96  26.39  26.77  64731500   24.42183\n",
       "2012-01-04  26.82  27.47  26.78  27.40  80516100   24.99657\n",
       "2012-01-05  27.38  27.73  27.29  27.68  56081400   25.25201"
      ]
     },
     "execution_count": 14,
     "metadata": {},
     "output_type": "execute_result"
    }
   ],
   "source": [
    "# slicing using a DatetimeIndex nicely works with dates \n",
    "# passed as strings\n",
    "msft['2012-01-01':'2012-01-05']"
   ]
  },
  {
   "cell_type": "code",
   "execution_count": 15,
   "id": "48a7ed30",
   "metadata": {
    "collapsed": false
   },
   "outputs": [
    {
     "data": {
      "text/plain": [
       "Open               26.55000\n",
       "High               26.96000\n",
       "Low                26.39000\n",
       "Close              26.77000\n",
       "Volume       64731500.00000\n",
       "Adj Close          24.42183\n",
       "Name: 2012-01-03 00:00:00, dtype: float64"
      ]
     },
     "execution_count": 15,
     "metadata": {},
     "output_type": "execute_result"
    }
   ],
   "source": [
    "# returns a Series representing all the values of the \n",
    "# single row indexed by the column names\n",
    "msft.loc['2012-01-03']"
   ]
  },
  {
   "cell_type": "code",
   "execution_count": 16,
   "id": "4ac92e24",
   "metadata": {
    "collapsed": false
   },
   "outputs": [],
   "source": [
    "# this is an error as this tries to retrieve a column\n",
    "# named '2012-01-03'\n",
    "# msft['2012-01-03'] # commented to prevent killing the notebook"
   ]
  },
  {
   "cell_type": "code",
   "execution_count": 17,
   "id": "1183cc13",
   "metadata": {
    "collapsed": false
   },
   "outputs": [
    {
     "data": {
      "text/plain": [
       "24.42183"
      ]
     },
     "execution_count": 17,
     "metadata": {},
     "output_type": "execute_result"
    }
   ],
   "source": [
    "# this is a Series, so the lookup works\n",
    "msftAC['2012-01-03']"
   ]
  },
  {
   "cell_type": "code",
   "execution_count": 18,
   "id": "29c450f3",
   "metadata": {
    "collapsed": false
   },
   "outputs": [
    {
     "data": {
      "text/plain": [
       "             Open   High    Low  Close    Volume  Adj Close\n",
       "Date                                                       \n",
       "2012-02-01  29.79  30.05  29.76  29.89  67409900   27.26815\n",
       "2012-02-02  29.90  30.17  29.71  29.95  52223300   27.32289\n",
       "2012-02-03  30.14  30.40  30.09  30.24  41838500   27.58745\n",
       "2012-02-06  30.04  30.22  29.97  30.20  28039700   27.55096\n",
       "2012-02-07  30.15  30.49  30.05  30.35  39242400   27.68781"
      ]
     },
     "execution_count": 18,
     "metadata": {},
     "output_type": "execute_result"
    }
   ],
   "source": [
    "# we can lookup using partial date specifications\n",
    "# such as only year and month\n",
    "msft['2012-02'].head(5)"
   ]
  },
  {
   "cell_type": "code",
   "execution_count": 19,
   "id": "98c79986",
   "metadata": {
    "collapsed": false
   },
   "outputs": [
    {
     "data": {
      "text/plain": [
       "             Open   High    Low  Close    Volume  Adj Close\n",
       "Date                                                       \n",
       "2012-02-01  29.79  30.05  29.76  29.89  67409900   27.26815\n",
       "2012-02-02  29.90  30.17  29.71  29.95  52223300   27.32289\n",
       "2012-02-03  30.14  30.40  30.09  30.24  41838500   27.58745\n",
       "2012-02-06  30.04  30.22  29.97  30.20  28039700   27.55096\n",
       "2012-02-07  30.15  30.49  30.05  30.35  39242400   27.68781"
      ]
     },
     "execution_count": 19,
     "metadata": {},
     "output_type": "execute_result"
    }
   ],
   "source": [
    "# slice starting at the beginning of Feb 2012 and \n",
    "# end on Feb 9 2012\n",
    "msft['2012-02':'2012-02-09'][:5]"
   ]
  },
  {
   "cell_type": "markdown",
   "id": "50d4f4a2",
   "metadata": {},
   "source": [
    "# Creating time-series with specific frequencies"
   ]
  },
  {
   "cell_type": "code",
   "execution_count": 20,
   "id": "6d592433",
   "metadata": {
    "collapsed": false
   },
   "outputs": [
    {
     "data": {
      "text/plain": [
       "2014-08-01 00:00:00         0\n",
       "2014-08-01 00:01:00         1\n",
       "2014-08-01 00:02:00         2\n",
       "                        ...  \n",
       "2014-10-29 23:57:00    129597\n",
       "2014-10-29 23:58:00    129598\n",
       "2014-10-29 23:59:00    129599\n",
       "Freq: T, dtype: int64"
      ]
     },
     "execution_count": 20,
     "metadata": {},
     "output_type": "execute_result"
    }
   ],
   "source": [
    "# create a time-series with one minute frequency\n",
    "bymin = pd.Series(np.arange(0, 90*60*24),\n",
    "                  pd.date_range('2014-08-01', \n",
    "                                '2014-10-29 23:59:00',\n",
    "                                freq='T'))\n",
    "bymin"
   ]
  },
  {
   "cell_type": "code",
   "execution_count": 21,
   "id": "b2fbf23d",
   "metadata": {
    "collapsed": false
   },
   "outputs": [
    {
     "data": {
      "text/plain": [
       "2014-08-01 12:30:00    750\n",
       "2014-08-01 12:31:00    751\n",
       "2014-08-01 12:32:00    752\n",
       "                      ... \n",
       "2014-08-01 12:57:00    777\n",
       "2014-08-01 12:58:00    778\n",
       "2014-08-01 12:59:00    779\n",
       "Freq: T, dtype: int64"
      ]
     },
     "execution_count": 21,
     "metadata": {},
     "output_type": "execute_result"
    }
   ],
   "source": [
    "# slice at the minute level\n",
    "bymin['2014-08-01 12:30':'2014-08-01 12:59']"
   ]
  },
  {
   "cell_type": "markdown",
   "id": "fdc27afd",
   "metadata": {},
   "source": [
    "# Representing intervals of time using periods"
   ]
  },
  {
   "cell_type": "code",
   "execution_count": 22,
   "id": "3d6c596d",
   "metadata": {
    "collapsed": false
   },
   "outputs": [
    {
     "data": {
      "text/plain": [
       "Period('2014-08', 'M')"
      ]
     },
     "execution_count": 22,
     "metadata": {},
     "output_type": "execute_result"
    }
   ],
   "source": [
    "# create a period representing a start of \n",
    "# 2014-08 and for a duration of one month\n",
    "aug2014 = pd.Period('2014-08', freq='M')\n",
    "aug2014"
   ]
  },
  {
   "cell_type": "code",
   "execution_count": 23,
   "id": "f0c52f7e",
   "metadata": {
    "collapsed": false
   },
   "outputs": [
    {
     "data": {
      "text/plain": [
       "(Timestamp('2014-08-01 00:00:00'), Timestamp('2014-08-31 23:59:59.999999999'))"
      ]
     },
     "execution_count": 23,
     "metadata": {},
     "output_type": "execute_result"
    }
   ],
   "source": [
    "# pandas determined the following start and end\n",
    "# for the period\n",
    "aug2014.start_time, aug2014.end_time"
   ]
  },
  {
   "cell_type": "code",
   "execution_count": 24,
   "id": "ea87effb",
   "metadata": {
    "collapsed": false
   },
   "outputs": [
    {
     "data": {
      "text/plain": [
       "Period('2014-09', 'M')"
      ]
     },
     "execution_count": 24,
     "metadata": {},
     "output_type": "execute_result"
    }
   ],
   "source": [
    "# what is the one month period following the given period?\n",
    "sep2014 = aug2014 + 1\n",
    "sep2014"
   ]
  },
  {
   "cell_type": "code",
   "execution_count": 25,
   "id": "02b7e096",
   "metadata": {
    "collapsed": false
   },
   "outputs": [
    {
     "data": {
      "text/plain": [
       "(Timestamp('2014-09-01 00:00:00'), Timestamp('2014-09-30 23:59:59.999999999'))"
      ]
     },
     "execution_count": 25,
     "metadata": {},
     "output_type": "execute_result"
    }
   ],
   "source": [
    "# the calculated start and end are\n",
    "sep2014.start_time, sep2014.end_time"
   ]
  },
  {
   "cell_type": "code",
   "execution_count": 26,
   "id": "bea4934a",
   "metadata": {
    "collapsed": false
   },
   "outputs": [
    {
     "data": {
      "text/plain": [
       "<class 'pandas.tseries.period.PeriodIndex'>\n",
       "[2013-01, ..., 2013-12]\n",
       "Length: 12, Freq: M"
      ]
     },
     "execution_count": 26,
     "metadata": {},
     "output_type": "execute_result"
    }
   ],
   "source": [
    "# create a pandas PeriodIndex\n",
    "mp2013 = pd.period_range('1/1/2013', '12/31/2013', freq='M')\n",
    "mp2013"
   ]
  },
  {
   "cell_type": "code",
   "execution_count": 27,
   "id": "993dfd2a",
   "metadata": {
    "collapsed": false
   },
   "outputs": [
    {
     "name": "stdout",
     "output_type": "stream",
     "text": [
      "2013-01 M 2013-01-01 00:00:00 2013-01-31 23:59:59.999999999\n",
      "2013-02 M 2013-02-01 00:00:00 2013-02-28 23:59:59.999999999\n",
      "2013-03 M 2013-03-01 00:00:00 2013-03-31 23:59:59.999999999\n",
      "2013-04 M 2013-04-01 00:00:00 2013-04-30 23:59:59.999999999\n",
      "2013-05 M 2013-05-01 00:00:00 2013-05-31 23:59:59.999999999\n",
      "2013-06 M 2013-06-01 00:00:00 2013-06-30 23:59:59.999999999\n",
      "2013-07 M 2013-07-01 00:00:00 2013-07-31 23:59:59.999999999\n",
      "2013-08 M 2013-08-01 00:00:00 2013-08-31 23:59:59.999999999\n",
      "2013-09 M 2013-09-01 00:00:00 2013-09-30 23:59:59.999999999\n",
      "2013-10 M 2013-10-01 00:00:00 2013-10-31 23:59:59.999999999\n",
      "2013-11 M 2013-11-01 00:00:00 2013-11-30 23:59:59.999999999\n",
      "2013-12 M 2013-12-01 00:00:00 2013-12-31 23:59:59.999999999\n"
     ]
    }
   ],
   "source": [
    "# dump all the calculated periods\n",
    "for p in mp2013: \n",
    "    print \"{0} {1} {2} {3}\".format(p, \n",
    "                                   p.freq, \n",
    "                                   p.start_time, \n",
    "                                   p.end_time)"
   ]
  },
  {
   "cell_type": "code",
   "execution_count": 28,
   "id": "495be4a7",
   "metadata": {
    "collapsed": false
   },
   "outputs": [
    {
     "data": {
      "text/plain": [
       "2013-01    0.469112\n",
       "2013-02   -0.282863\n",
       "2013-03   -1.509059\n",
       "             ...   \n",
       "2013-10   -2.104569\n",
       "2013-11   -0.494929\n",
       "2013-12    1.071804\n",
       "Freq: M, dtype: float64"
      ]
     },
     "execution_count": 28,
     "metadata": {},
     "output_type": "execute_result"
    }
   ],
   "source": [
    "# and now create a Series using the PeriodIndex\n",
    "np.random.seed(123456)\n",
    "ps = pd.Series(np.random.randn(12), mp2013)\n",
    "ps"
   ]
  },
  {
   "cell_type": "markdown",
   "id": "9c2cd0ab",
   "metadata": {},
   "source": [
    "# Shifting and lagging time-series data"
   ]
  },
  {
   "cell_type": "code",
   "execution_count": 29,
   "id": "41a16267",
   "metadata": {
    "collapsed": false
   },
   "outputs": [
    {
     "data": {
      "text/plain": [
       "Date\n",
       "2012-01-03    24.42183\n",
       "2012-01-04    24.99657\n",
       "2012-01-05    25.25201\n",
       "2012-01-06    25.64429\n",
       "2012-01-09    25.30675\n",
       "Name: Adj Close, dtype: float64"
      ]
     },
     "execution_count": 29,
     "metadata": {},
     "output_type": "execute_result"
    }
   ],
   "source": [
    "# refresh our memory on the data in the MSFT closing prices Series\n",
    "msftAC[:5]"
   ]
  },
  {
   "cell_type": "code",
   "execution_count": 30,
   "id": "ed55f085",
   "metadata": {
    "collapsed": false
   },
   "outputs": [
    {
     "data": {
      "text/plain": [
       "Date\n",
       "2012-01-03         NaN\n",
       "2012-01-04    24.42183\n",
       "2012-01-05    24.99657\n",
       "2012-01-06    25.25201\n",
       "2012-01-09    25.64429\n",
       "Name: Adj Close, dtype: float64"
      ]
     },
     "execution_count": 30,
     "metadata": {},
     "output_type": "execute_result"
    }
   ],
   "source": [
    "# shift the prices one index position forward\n",
    "shifted_forward = msftAC.shift(1)\n",
    "shifted_forward[:5]"
   ]
  },
  {
   "cell_type": "code",
   "execution_count": 31,
   "id": "831054dd",
   "metadata": {
    "collapsed": false
   },
   "outputs": [
    {
     "data": {
      "text/plain": [
       "(Date\n",
       " 2013-12-23    35.39210\n",
       " 2013-12-24    35.83668\n",
       " 2013-12-26    36.18461\n",
       " 2013-12-27    36.03964\n",
       " 2013-12-30    36.03964\n",
       " Name: Adj Close, dtype: float64, Date\n",
       " 2013-12-23    35.56607\n",
       " 2013-12-24    35.39210\n",
       " 2013-12-26    35.83668\n",
       " 2013-12-27    36.18461\n",
       " 2013-12-30    36.03964\n",
       " Name: Adj Close, dtype: float64)"
      ]
     },
     "execution_count": 31,
     "metadata": {},
     "output_type": "execute_result"
    }
   ],
   "source": [
    "# the last item is also shifted away \n",
    "msftAC.tail(5), shifted_forward.tail(5)"
   ]
  },
  {
   "cell_type": "code",
   "execution_count": 32,
   "id": "b3770f44",
   "metadata": {
    "collapsed": false
   },
   "outputs": [
    {
     "data": {
      "text/plain": [
       "Date\n",
       "2012-01-03    25.25201\n",
       "2012-01-04    25.64429\n",
       "2012-01-05    25.30675\n",
       "2012-01-06    25.39797\n",
       "2012-01-09    25.28850\n",
       "Name: Adj Close, dtype: float64"
      ]
     },
     "execution_count": 32,
     "metadata": {},
     "output_type": "execute_result"
    }
   ],
   "source": [
    "# shift backwards 2 index labels\n",
    "shifted_backwards = msftAC.shift(-2)\n",
    "shifted_backwards[:5]"
   ]
  },
  {
   "cell_type": "code",
   "execution_count": 33,
   "id": "6d40fcc9",
   "metadata": {
    "collapsed": false
   },
   "outputs": [
    {
     "data": {
      "text/plain": [
       "Date\n",
       "2013-12-23    36.18461\n",
       "2013-12-24    36.03964\n",
       "2013-12-26    36.03964\n",
       "2013-12-27         NaN\n",
       "2013-12-30         NaN\n",
       "Name: Adj Close, dtype: float64"
      ]
     },
     "execution_count": 33,
     "metadata": {},
     "output_type": "execute_result"
    }
   ],
   "source": [
    "# this has resulted in 2 NaN values at \n",
    "# the end of the resulting Series\n",
    "shifted_backwards.tail(5)"
   ]
  },
  {
   "cell_type": "code",
   "execution_count": 36,
   "id": "f8549ab1",
   "metadata": {
    "collapsed": false
   },
   "outputs": [
    {
     "data": {
      "text/plain": [
       "Date\n",
       "2012-01-03 00:00:01    24.42183\n",
       "2012-01-04 00:00:01    24.99657\n",
       "2012-01-05 00:00:01    25.25201\n",
       "                         ...   \n",
       "2013-12-26 00:00:01    36.18461\n",
       "2013-12-27 00:00:01    36.03964\n",
       "2013-12-30 00:00:01    36.03964\n",
       "Name: Adj Close, dtype: float64"
      ]
     },
     "execution_count": 36,
     "metadata": {},
     "output_type": "execute_result"
    }
   ],
   "source": [
    "# shift by a different frequency does not realign\n",
    "# and ends up essentially changing the index labels by\n",
    "# the specific amount of time\n",
    "msftAC.shift(1, freq=\"S\")"
   ]
  },
  {
   "cell_type": "code",
   "execution_count": 37,
   "id": "755f81a5",
   "metadata": {
    "collapsed": false
   },
   "outputs": [
    {
     "data": {
      "text/plain": [
       "Date\n",
       "2012-01-04    24.42183\n",
       "2012-01-05    24.99657\n",
       "2012-01-06    25.25201\n",
       "                ...   \n",
       "2013-12-27    36.18461\n",
       "2013-12-28    36.03964\n",
       "2013-12-31    36.03964\n",
       "Name: Adj Close, dtype: float64"
      ]
     },
     "execution_count": 37,
     "metadata": {},
     "output_type": "execute_result"
    }
   ],
   "source": [
    "# resulting Series has one day added to all index labels\n",
    "msftAC.tshift(1, freq=\"D\")"
   ]
  },
  {
   "cell_type": "code",
   "execution_count": 38,
   "id": "ce9769a3",
   "metadata": {
    "collapsed": false
   },
   "outputs": [
    {
     "data": {
      "text/plain": [
       "Date\n",
       "2012-01-03         NaN\n",
       "2012-01-04    0.023534\n",
       "2012-01-05    0.010219\n",
       "                ...   \n",
       "2013-12-26    0.009709\n",
       "2013-12-27   -0.004006\n",
       "2013-12-30    0.000000\n",
       "Name: Adj Close, dtype: float64"
      ]
     },
     "execution_count": 38,
     "metadata": {},
     "output_type": "execute_result"
    }
   ],
   "source": [
    "# calculate the percentage change in closing price\n",
    "msftAC / msftAC.shift(1) - 1"
   ]
  },
  {
   "cell_type": "markdown",
   "id": "1cdee3c8",
   "metadata": {},
   "source": [
    "# Frequency conversion of time-series data"
   ]
  },
  {
   "cell_type": "code",
   "execution_count": 39,
   "id": "842b609a",
   "metadata": {
    "collapsed": false
   },
   "outputs": [
    {
     "data": {
      "text/plain": [
       "Date\n",
       "2012-01-03    24.42183\n",
       "2012-01-04    24.99657\n",
       "Name: Adj Close, dtype: float64"
      ]
     },
     "execution_count": 39,
     "metadata": {},
     "output_type": "execute_result"
    }
   ],
   "source": [
    "# take a two item sample of the msftAC data for demonstrations\n",
    "sample = msftAC[:2]\n",
    "sample"
   ]
  },
  {
   "cell_type": "code",
   "execution_count": 40,
   "id": "5b00ab9e",
   "metadata": {
    "collapsed": false
   },
   "outputs": [
    {
     "data": {
      "text/plain": [
       "2012-01-03 00:00:00    24.42183\n",
       "2012-01-03 01:00:00         NaN\n",
       "2012-01-03 02:00:00         NaN\n",
       "                         ...   \n",
       "2012-01-03 22:00:00         NaN\n",
       "2012-01-03 23:00:00         NaN\n",
       "2012-01-04 00:00:00    24.99657\n",
       "Freq: H, Name: Adj Close, dtype: float64"
      ]
     },
     "execution_count": 40,
     "metadata": {},
     "output_type": "execute_result"
    }
   ],
   "source": [
    "# demonstrate resampling to hour intervals\n",
    "# realignment causes many NaN's\n",
    "sample.asfreq(\"H\")"
   ]
  },
  {
   "cell_type": "code",
   "execution_count": 41,
   "id": "79a1fba7",
   "metadata": {
    "collapsed": false
   },
   "outputs": [
    {
     "data": {
      "text/plain": [
       "2012-01-03 00:00:00    24.42183\n",
       "2012-01-03 01:00:00    24.42183\n",
       "2012-01-03 02:00:00    24.42183\n",
       "                         ...   \n",
       "2012-01-03 22:00:00    24.42183\n",
       "2012-01-03 23:00:00    24.42183\n",
       "2012-01-04 00:00:00    24.99657\n",
       "Freq: H, Name: Adj Close, dtype: float64"
      ]
     },
     "execution_count": 41,
     "metadata": {},
     "output_type": "execute_result"
    }
   ],
   "source": [
    "# fill NaN's with the last know non-NaN valuen\n",
    "sample.asfreq(\"H\", method=\"ffill\")"
   ]
  },
  {
   "cell_type": "code",
   "execution_count": 42,
   "id": "0a25531a",
   "metadata": {
    "collapsed": false
   },
   "outputs": [
    {
     "data": {
      "text/plain": [
       "2012-01-03 00:00:00    24.42183\n",
       "2012-01-03 01:00:00    24.99657\n",
       "2012-01-03 02:00:00    24.99657\n",
       "                         ...   \n",
       "2012-01-03 22:00:00    24.99657\n",
       "2012-01-03 23:00:00    24.99657\n",
       "2012-01-04 00:00:00    24.99657\n",
       "Freq: H, Name: Adj Close, dtype: float64"
      ]
     },
     "execution_count": 42,
     "metadata": {},
     "output_type": "execute_result"
    }
   ],
   "source": [
    "# fill with the \"next known\" value\n",
    "sample.asfreq(\"H\", method=\"bfill\")"
   ]
  },
  {
   "cell_type": "markdown",
   "id": "495073b6",
   "metadata": {},
   "source": [
    "## Up and down resampling of time-series"
   ]
  },
  {
   "cell_type": "code",
   "execution_count": 43,
   "id": "8180867b",
   "metadata": {
    "collapsed": false
   },
   "outputs": [
    {
     "data": {
      "text/plain": [
       "Date\n",
       "2012-01-03         NaN\n",
       "2012-01-04    1.023534\n",
       "2012-01-05    1.033993\n",
       "                ...   \n",
       "2013-12-26    1.481650\n",
       "2013-12-27    1.475714\n",
       "2013-12-30    1.475714\n",
       "Name: Adj Close, dtype: float64"
      ]
     },
     "execution_count": 43,
     "metadata": {},
     "output_type": "execute_result"
    }
   ],
   "source": [
    "# calculate the cumulative daily returns for MSFT\n",
    "msft_cum_ret = (1 + (msftAC / msftAC.shift() - 1)).cumprod()\n",
    "msft_cum_ret"
   ]
  },
  {
   "cell_type": "code",
   "execution_count": 44,
   "id": "584aef22",
   "metadata": {
    "collapsed": false
   },
   "outputs": [
    {
     "data": {
      "text/plain": [
       "Date\n",
       "2012-01-31    1.068675\n",
       "2012-02-29    1.155697\n",
       "2012-03-31    1.210570\n",
       "                ...   \n",
       "2013-10-31    1.350398\n",
       "2013-11-30    1.471915\n",
       "2013-12-31    1.482362\n",
       "Freq: M, Name: Adj Close, dtype: float64"
      ]
     },
     "execution_count": 44,
     "metadata": {},
     "output_type": "execute_result"
    }
   ],
   "source": [
    "# resample to a monthly cumulative return\n",
    "msft_monthly_cum_ret = msft_cum_ret.resample(\"M\")\n",
    "msft_monthly_cum_ret"
   ]
  },
  {
   "cell_type": "code",
   "execution_count": 45,
   "id": "0618c7c0",
   "metadata": {
    "collapsed": false
   },
   "outputs": [
    {
     "data": {
      "text/plain": [
       "1.0686746674033674"
      ]
     },
     "execution_count": 45,
     "metadata": {},
     "output_type": "execute_result"
    }
   ],
   "source": [
    "# verify the monthly average for 2012-01\n",
    "msft_cum_ret['2012-01'].mean()"
   ]
  },
  {
   "cell_type": "code",
   "execution_count": 46,
   "id": "03b47562",
   "metadata": {
    "collapsed": false
   },
   "outputs": [
    {
     "data": {
      "text/plain": [
       "Date\n",
       "2012-01-31    1.068675\n",
       "2012-02-29    1.155697\n",
       "2012-03-31    1.210570\n",
       "                ...   \n",
       "2013-10-31    1.350398\n",
       "2013-11-30    1.471915\n",
       "2013-12-31    1.482362\n",
       "Freq: M, Name: Adj Close, dtype: float64"
      ]
     },
     "execution_count": 46,
     "metadata": {},
     "output_type": "execute_result"
    }
   ],
   "source": [
    "# verify that the default resample techique is mean\n",
    "msft_cum_ret.resample(\"M\", how=\"mean\")"
   ]
  },
  {
   "cell_type": "code",
   "execution_count": 47,
   "id": "45ecdc73",
   "metadata": {
    "collapsed": false
   },
   "outputs": [
    {
     "data": {
      "text/plain": [
       "                open      high       low     close\n",
       "Date                                              \n",
       "2012-01-31  1.023534  1.110572  1.023534  1.103100\n",
       "2012-02-29  1.116548  1.198349  1.116548  1.193461\n",
       "2012-03-31  1.214142  1.235198  1.186693  1.213014\n",
       "2012-04-30  1.214142  1.219030  1.141195  1.203990\n",
       "2012-05-31  1.203613  1.203613  1.099860  1.104780"
      ]
     },
     "execution_count": 47,
     "metadata": {},
     "output_type": "execute_result"
    }
   ],
   "source": [
    "# resample to monthly and give us open, high, low, close\n",
    "msft_cum_ret.resample(\"M\", how=\"ohlc\")[:5]"
   ]
  },
  {
   "cell_type": "code",
   "execution_count": 48,
   "id": "49c89112",
   "metadata": {
    "collapsed": false
   },
   "outputs": [
    {
     "name": "stdout",
     "output_type": "stream",
     "text": [
      "2012-01-01 00:00:00:2012-01-31 23:59:59.999999999 1.0686746674\n",
      "2012-02-01 00:00:00:2012-02-29 23:59:59.999999999 1.15569744364\n",
      "2012-03-01 00:00:00:2012-03-31 23:59:59.999999999 1.21056956383\n",
      "2012-04-01 00:00:00:2012-04-30 23:59:59.999999999 1.18464361598\n",
      "2012-05-01 00:00:00:2012-05-31 23:59:59.999999999 1.14051599439\n"
     ]
    }
   ],
   "source": [
    "# this will return an index with periods instead of timestamps\n",
    "by_periods = msft_cum_ret.resample(\"M\", how=\"mean\", kind=\"period\")\n",
    "for i in by_periods.index[:5]: \n",
    "    print (\"{0}:{1} {2}\".format(i.start_time, \n",
    "                                i.end_time, \n",
    "                                by_periods[i]))"
   ]
  },
  {
   "cell_type": "code",
   "execution_count": 49,
   "id": "89c722af",
   "metadata": {
    "collapsed": false
   },
   "outputs": [
    {
     "data": {
      "text/plain": [
       "Date\n",
       "2012-01-04    1.023534\n",
       "2012-01-05    1.033993\n",
       "Name: Adj Close, dtype: float64"
      ]
     },
     "execution_count": 49,
     "metadata": {},
     "output_type": "execute_result"
    }
   ],
   "source": [
    "# upsampling will be demonstrated using the second\n",
    "# and third values (first is NaN)\n",
    "sample = msft_cum_ret[1:3]\n",
    "sample"
   ]
  },
  {
   "cell_type": "code",
   "execution_count": 50,
   "id": "4f63d5d2",
   "metadata": {
    "collapsed": false
   },
   "outputs": [
    {
     "data": {
      "text/plain": [
       "Date\n",
       "2012-01-04 00:00:00    1.023534\n",
       "2012-01-04 01:00:00         NaN\n",
       "2012-01-04 02:00:00         NaN\n",
       "                         ...   \n",
       "2012-01-04 22:00:00         NaN\n",
       "2012-01-04 23:00:00         NaN\n",
       "2012-01-05 00:00:00    1.033993\n",
       "Freq: H, Name: Adj Close, dtype: float64"
      ]
     },
     "execution_count": 50,
     "metadata": {},
     "output_type": "execute_result"
    }
   ],
   "source": [
    "# upsampling this will have a lot of NaN's\n",
    "by_hour = sample.resample(\"H\")\n",
    "by_hour"
   ]
  },
  {
   "cell_type": "code",
   "execution_count": 51,
   "id": "f0661ebc",
   "metadata": {
    "collapsed": false
   },
   "outputs": [
    {
     "data": {
      "text/plain": [
       "Date\n",
       "2012-01-04 00:00:00    1.023534\n",
       "2012-01-04 01:00:00    1.023970\n",
       "2012-01-04 02:00:00    1.024405\n",
       "                         ...   \n",
       "2012-01-04 22:00:00    1.033122\n",
       "2012-01-04 23:00:00    1.033558\n",
       "2012-01-05 00:00:00    1.033993\n",
       "Freq: H, Name: Adj Close, dtype: float64"
      ]
     },
     "execution_count": 51,
     "metadata": {},
     "output_type": "execute_result"
    }
   ],
   "source": [
    "by_hour.interpolate()"
   ]
  }
 ],
 "metadata": {},
 "nbformat": 4,
 "nbformat_minor": 5
}
